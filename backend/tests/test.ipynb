!pip install -q kokoro>=0.9.2 soundfile
!apt-get -qq -y install espeak-ng > /dev/null 2>&1
from kokoro import KPipeline
from IPython.display import display, Audio
import soundfile as sf
import torch
from tqdm import tqdm
import os
import subprocess

pipeline = KPipeline(lang_code='a')




def split_stories(filename="sample.md"):
    """Sépare les histoires d'un fichier markdown basé sur les titres (lignes commençant par '# ')."""
    with open(filename, "r", encoding="utf-8") as f:
        content = f.read()
    
    story_parts = content.split('\n# ')
    # Le premier élément peut être vide si le fichier commence par '# '
    if story_parts[0].strip().startswith('# '):
        story_parts[0] = story_parts[0].strip()[2:]
    else:
        # Si le fichier ne commence pas par un titre, il est possible que la première division soit incorrecte.
        # On suppose que le premier titre est sur la première ligne.
        if story_parts and not story_parts[0].strip():
            story_parts.pop(0)

    stories = []
    for part in story_parts:
        if not part.strip():
            continue
        lines = part.split('\n', 1)
        title = lines[0].strip()
        content = lines[1].strip() if len(lines) > 1 else ""
        if title:
            stories.append({"title": title, "content": content})
    
    return stories




def process_story(story):
    """Génère des fichiers audio pour le contenu d'une histoire et les sauvegarde dans un dossier dédié."""
    title = story["title"]
    content = story["content"]
    
    # Crée un répertoire pour l'histoire
    story_dir = os.path.join(os.getcwd(), title.replace(" ", "_").replace("/", "_"))
    os.makedirs(story_dir, exist_ok=True)
    
    text = content
    generator = pipeline(text, voice='af_heart')
    
    audio_files = []
    print(f"--- Traitement de l'histoire : {title} ---")
    for i, (gs, ps, audio) in tqdm(enumerate(generator), desc=f"Génération TTS pour {title}"):
        display(Audio(data=audio, rate=24000, autoplay=False))
        wav_path = os.path.join(story_dir, f'{i}.wav')
        sf.write(wav_path, audio, 24000)
        audio_files.append(wav_path)
    
    return story_dir, audio_files




def speedup_audio(input_wav, output_wav, speed_factor=1.30):
    """Accélère un fichier audio en utilisant ffmpeg."""
    command = [
        'ffmpeg',
        '-i', input_wav,
        '-filter:a', f'atempo={speed_factor}',
        '-y', # Écrase le fichier de sortie s'il existe
        output_wav
    ]
    subprocess.run(command, capture_output=True, text=True, check=True)




def concatenate_audio(input_files, output_file):
    """Concatène une liste de fichiers audio en un seul fichier en utilisant ffmpeg."""
    list_file_path = 'temp_audio_list.txt'
    with open(list_file_path, 'w', encoding="utf-8") as f:
        for file in input_files:
            # Échapper les apostrophes pour ffmpeg
            safe_path = file.replace("'", "'\\''")
            f.write(f"file '{safe_path}'\n")
    
    command = [
        'ffmpeg',
        '-f', 'concat',
        '-safe', '0',
        '-i', list_file_path,
        '-c', 'copy',
        '-y', # Écrase le fichier de sortie s'il existe
        output_file
    ]
    subprocess.run(command, capture_output=True, text=True, check=True)
    
    os.remove(list_file_path)




 # --- Script Principal ---
 # Assurez-vous que le fichier sample.md existe et contient des histoires séparées par '# titre'
 # Définir chemin vers sample.md selon la nouvelle arborescence
script_dir = os.path.dirname(os.path.abspath(__file__))
sample_md = os.path.normpath(os.path.join(script_dir, '../data/sample.md'))
if not os.path.exists(sample_md):
    print(f"Le fichier '{sample_md}' est introuvable. Veuillez le créer.")
else:
    stories = split_stories(sample_md)

    for story in stories:
        story_dir, audio_files = process_story(story)
        
        # Accélère chaque fichier audio
        sped_up_files = []
        for i, input_wav in enumerate(audio_files):
            output_wav = os.path.join(story_dir, f"sped_up_{i}.wav")
            try:
                speedup_audio(input_wav, output_wav)
                sped_up_files.append(output_wav)
            except subprocess.CalledProcessError as e:
                print(f"Erreur lors de l'accélération de {input_wav}: {e.stderr}")

        
        # Concatène les fichiers audio accélérés
        if sped_up_files:
            final_output_file = os.path.join(os.getcwd(), f"{story['title'].replace(' ', '_').replace('/', '_')}_complet.wav")
            try:
                concatenate_audio(sped_up_files, final_output_file)
                print(f"Audio final créé pour '{story['title']}': {final_output_file}")
            except subprocess.CalledProcessError as e:
                print(f"Erreur lors de la concaténation pour {story['title']}: {e.stderr}")

    print("\nTraitement complet !")